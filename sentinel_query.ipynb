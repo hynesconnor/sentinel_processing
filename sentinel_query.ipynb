{
 "cells": [
  {
   "cell_type": "code",
   "execution_count": null,
   "id": "9319a20c-f4ec-483c-94af-0526e2fd26d5",
   "metadata": {},
   "outputs": [],
   "source": [
    "# imports\n",
    "import os\n",
    "import sys\n",
    "from urllib import request\n",
    "from datetime import date\n",
    "import datetime\n",
    "import pandas as pd\n",
    "import json\n",
    "import zipfile\n",
    "from sentinelsat import SentinelAPI, read_geojson, geojson_to_wkt\n"
   ]
  },
  {
   "cell_type": "code",
   "execution_count": null,
   "id": "7e507a79-15d6-4e74-91b8-15f1d7d08d67",
   "metadata": {},
   "outputs": [],
   "source": [
    "# constants\n",
    "CWD = os.getcwd()\n",
    "URL = 'https://developers.google.com/public-data/docs/canonical/countries_csv'\n",
    "COU_DIR = '/data/country/'\n",
    "IMG_DIR = '/data/image/'\n",
    "USER = 'connorhynes'\n",
    "PASS = 'or8pitJ4N#slSq&am87q^WsfA'\n",
    "DATE_END = date.today()\n",
    "\n",
    "# adjustable search parameters\n",
    "COUNTRY = 'US' # abbreviation of country. options here: 'https://developers.google.com/public-data/docs/canonical/countries_csv'\n",
    "YEAR_SEARCH = 1 # how many previous years to query\n",
    "CLOUD_COVER = [0, 10] # acceptable amount of cloud cover [start, end] (percentage)\n",
    "\n",
    "# custom lat/long search\n",
    "CUSTOM = False # False: no custom search, True: custom search\n",
    "LAT, LONG = 0, 0 # custom latitude and longitude\n",
    "CUS_NAME = '' # location name, used for directory naming\n"
   ]
  },
  {
   "cell_type": "code",
   "execution_count": null,
   "id": "c0674457",
   "metadata": {},
   "outputs": [],
   "source": [
    "# creates necessary file directory. Uncomment code and run cell once on first use of program.\n",
    "'''\n",
    "def create_directory():\n",
    "    cur_folder = CWD + '/data/'\n",
    "    os.makedirs(cur_folder)\n",
    "    main_dirs = ['country', 'image', 'processed']\n",
    "    proc_dirs = ['ndvi', 'ndwi', 'rgb']\n",
    "    for i in main_dirs:\n",
    "        os.makedirs(cur_folder + i)\n",
    "    for i in proc_dirs:\n",
    "        os.makedirs(cur_folder + 'processed/' + i)\n",
    "\n",
    "create_directory()\n",
    "'''\n"
   ]
  },
  {
   "cell_type": "code",
   "execution_count": null,
   "id": "488db05d-a46e-437c-a5ad-d9c963945b8e",
   "metadata": {},
   "outputs": [],
   "source": [
    "# requests country data from google, returns dataframe of country data.\n",
    "# URL: web address of country data\n",
    "def getCountry(URL):\n",
    "    webpage = request.urlopen(URL)\n",
    "    country_data = pd.read_html(webpage)[0]\n",
    "    return country_data\n"
   ]
  },
  {
   "cell_type": "code",
   "execution_count": null,
   "id": "a2eeecc5-76bc-48ba-ad38-caaab8aa5a6d",
   "metadata": {},
   "outputs": [],
   "source": [
    "# get desired country from user input, returns lat/long and country name\n",
    "# countries: dataframe of country data\n",
    "def countryData(countries):\n",
    "    country_ab = COUNTRY\n",
    "    row = countries[countries.country == country_ab]\n",
    "    lat, long, cou_name = row.latitude.values[0], row.longitude.values[0], row.country.values[0]\n",
    "    return(lat, long, cou_name)\n"
   ]
  },
  {
   "cell_type": "code",
   "execution_count": null,
   "id": "d43c255a-6175-421d-8a5d-359379209efc",
   "metadata": {},
   "outputs": [],
   "source": [
    "# creates geojson from desired lat/long, used for footprint of API query, returns geojson filepath\n",
    "# countries: dataframe of country data\n",
    "def createGeoJson(countries):\n",
    "    # if custom search, use custom location parameters\n",
    "    if CUSTOM:\n",
    "        lat, long, cou_name = LAT, LONG, CUS_NAME\n",
    "    else:\n",
    "        # get country information\n",
    "        lat, long, cou_name = countryData(countries)\n",
    "    \n",
    "    # construct geojson file with lat/long to be used as footprint\n",
    "    data = {\n",
    "        \"type\": \"FeatureCollection\",\n",
    "        \"features\": [\n",
    "            {\n",
    "                \"type\": \"Feature\",\n",
    "                \"geometry\": {\n",
    "                    \"type\": \"Point\", \n",
    "                    \"coordinates\": [long, lat]\n",
    "                }\n",
    "            }\n",
    "        ]\n",
    "    }\n",
    "    \n",
    "    # filepath where .geojson will be saved\n",
    "    filepath = CWD + COU_DIR + cou_name + '.geojson'\n",
    "    \n",
    "    # writes geojson file to directory\n",
    "    with open(filepath, \"w\", encoding = 'utf-8') as f:\n",
    "        json.dump(data, f, ensure_ascii = False, indent = 4)\n",
    "    f.close()\n",
    "    \n",
    "    return filepath\n",
    "    "
   ]
  },
  {
   "cell_type": "code",
   "execution_count": null,
   "id": "4e8ce0e0",
   "metadata": {},
   "outputs": [],
   "source": [
    "# checks if satellite data for location has already been downloaded. If so, aborts execution\n",
    "# name: title of location queried, compared against existing files\n",
    "def check_library(name):\n",
    "    dirs = os.listdir(CWD + IMG_DIR) # dataframe of IMG file directory\n",
    "    \n",
    "    # for each file in directory, check for matching file names \n",
    "    for i in dirs:\n",
    "        if ('sentinel' + name) == i:  \n",
    "            sys.exit('Satellite data for this location already exists. Check image directory and adjust parameters.')\n"
   ]
  },
  {
   "cell_type": "code",
   "execution_count": null,
   "id": "b4bb543b-35cf-420b-872a-7f6c111e8d95",
   "metadata": {},
   "outputs": [],
   "source": [
    "# connects to sentinelAPI with credentials, returns api\n",
    "def sentinel_contact():\n",
    "    api = SentinelAPI(USER, PASS, 'https://apihub.copernicus.eu/apihub')\n",
    "    \n",
    "    return api\n"
   ]
  },
  {
   "cell_type": "code",
   "execution_count": null,
   "id": "e14ca78a-e6ab-49c0-aa21-15fd9da44498",
   "metadata": {},
   "outputs": [],
   "source": [
    "# determines how many years to query based on YEAR_SEARCH variable, returns start date\n",
    "def getStartDate():\n",
    "    DATE_START = DATE_END - pd.DateOffset(years = YEAR_SEARCH)\n",
    "    \n",
    "    return DATE_START\n"
   ]
  },
  {
   "cell_type": "code",
   "execution_count": null,
   "id": "f636a186-403a-4e2f-8f56-e35a6c0ebe04",
   "metadata": {},
   "outputs": [],
   "source": [
    "# reads geojson footprint, requests based on search parameters, returns sorted dataframe of products\n",
    "# filepath: path to geojson footrpint, api: api connection to sentinel servers\n",
    "def sentinel_product(filepath, api):\n",
    "    # reads geojson\n",
    "    footprint = geojson_to_wkt(read_geojson(filepath))\n",
    "    \n",
    "    # receives valid satellite data based on search parameters \n",
    "    products = api.query(footprint,\n",
    "                         date = (getStartDate(), DATE_END),\n",
    "                         platformname = 'Sentinel-2',\n",
    "                         cloudcoverpercentage = CLOUD_COVER)\n",
    "\n",
    "    # stores data in sorted dataframe, most recent data first\n",
    "    products_df = api.to_dataframe(products).sort_values(by = ['summary'], ascending = False)\n",
    "\n",
    "    return products_df\n"
   ]
  },
  {
   "cell_type": "code",
   "execution_count": null,
   "id": "3796916a-d26b-4f5b-ab06-576059209ec1",
   "metadata": {},
   "outputs": [],
   "source": [
    "# uses product dataframe parameter to download first satellite imagery, returns title of file\n",
    "# products_df: sorted df of satellite data, api: api connection to sentinel servers\n",
    "def sentinel_download(products_df, api):\n",
    "\n",
    "    # title/prod_id can be changed to download any file from product_df, including multiple. Adjust [0] value.\n",
    "    title = products_df.iloc[0]['title'] \n",
    "    prod_id = products_df.iloc[0]['uuid']\n",
    "\n",
    "    api.download(prod_id, CWD + IMG_DIR)\n",
    "    \n",
    "    return title\n"
   ]
  },
  {
   "cell_type": "code",
   "execution_count": null,
   "id": "dc21e0b7-e36c-4c38-b559-15d25d91e32d",
   "metadata": {},
   "outputs": [],
   "source": [
    "# unpacks downloaded file using title parameter, removes zipped version, renames file\n",
    "# title: title of newly downloaded file\n",
    "def unpack(title):\n",
    "    dl_filepath = CWD + IMG_DIR + title + '.zip'\n",
    "    \n",
    "    # unpacking zip\n",
    "    with zipfile.ZipFile(dl_filepath, 'r') as zip_ref:\n",
    "        zip_ref.extractall(CWD + IMG_DIR)\n",
    "        \n",
    "    os.remove(dl_filepath) # remove zip \n",
    "    dl_filepath = CWD + IMG_DIR + title + '.SAFE' # unzip filepath\n",
    "    \n",
    "    # renaming file\n",
    "    if CUSTOM:\n",
    "        filename = 'sentinel' + CUS_NAME\n",
    "    else:\n",
    "        filename = 'sentinel' + COUNTRY\n",
    "    dl_rename = CWD + IMG_DIR + filename\n",
    "    os.rename(dl_filepath, dl_rename)\n"
   ]
  },
  {
   "cell_type": "code",
   "execution_count": null,
   "id": "89ceba32-323a-478a-a123-44a0f1b7934d",
   "metadata": {},
   "outputs": [],
   "source": [
    "def main():\n",
    "    # execution for default search\n",
    "    if CUSTOM is False:\n",
    "        countries = getCountry(URL)\n",
    "        filepath = createGeoJson(countries)\n",
    "        check_library(COUNTRY)\n",
    "        api = sentinel_contact()\n",
    "        products_df = sentinel_product(filepath, api)\n",
    "        title = sentinel_download(products_df, api)\n",
    "        unpack(title)\n",
    "        print(\"Complete.\")\n",
    "        \n",
    "    # execution for custom search\n",
    "    else:\n",
    "        filepath = createGeoJson(0)\n",
    "        api = sentinel_contact()\n",
    "        check_library(CUS_NAME)\n",
    "        products_df = sentinel_product(filepath, api)\n",
    "        title = sentinel_download(products_df, api)\n",
    "        unpack(title)\n",
    "        print(\"Complete.\")\n",
    "        "
   ]
  },
  {
   "cell_type": "code",
   "execution_count": null,
   "id": "6dfb5951-73df-414d-a89a-2362be0a4c79",
   "metadata": {},
   "outputs": [],
   "source": [
    "main()"
   ]
  }
 ],
 "metadata": {
  "kernelspec": {
   "display_name": "testing",
   "language": "python",
   "name": "testing"
  },
  "language_info": {
   "codemirror_mode": {
    "name": "ipython",
    "version": 3
   },
   "file_extension": ".py",
   "mimetype": "text/x-python",
   "name": "python",
   "nbconvert_exporter": "python",
   "pygments_lexer": "ipython3",
   "version": "3.9.7"
  },
  "toc-autonumbering": true,
  "toc-showcode": false,
  "toc-showtags": false
 },
 "nbformat": 4,
 "nbformat_minor": 5
}
