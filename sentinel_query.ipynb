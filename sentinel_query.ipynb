{
 "cells": [
  {
   "cell_type": "markdown",
   "id": "7f2b9bcb-342e-42ac-a980-698d26c7f0bc",
   "metadata": {},
   "source": [
    "This file downloads satellite imagery using Sentinel API"
   ]
  },
  {
   "cell_type": "code",
   "execution_count": 14,
   "id": "4206b8c6-b32d-4cbf-84f4-16555c3fcc28",
   "metadata": {},
   "outputs": [
    {
     "name": "stdout",
     "output_type": "stream",
     "text": [
      "Collecting lxml\n",
      "  Downloading lxml-4.8.0-cp39-cp39-win_amd64.whl (3.6 MB)\n",
      "Installing collected packages: lxml\n",
      "Successfully installed lxml-4.8.0\n"
     ]
    }
   ],
   "source": [
    "#!pip install sentinelsat"
   ]
  },
  {
   "cell_type": "code",
   "execution_count": 37,
   "id": "9319a20c-f4ec-483c-94af-0526e2fd26d5",
   "metadata": {},
   "outputs": [],
   "source": [
    "# imports\n",
    "from sentinelsat import SentinelAPI, read_geojson, geojson_to_wkt\n",
    "\n",
    "import os\n",
    "from urllib import request\n",
    "from datetime import date\n",
    "import datetime\n",
    "import pandas as pd\n",
    "import json\n",
    "import zipfile"
   ]
  },
  {
   "cell_type": "code",
   "execution_count": 75,
   "id": "7e507a79-15d6-4e74-91b8-15f1d7d08d67",
   "metadata": {},
   "outputs": [],
   "source": [
    "# constants\n",
    "CWD = os.getcwd()\n",
    "URL = 'https://developers.google.com/public-data/docs/canonical/countries_csv'\n",
    "COU_DIR = '/data/country/'\n",
    "IMG_DIR = '/data/image/'\n",
    "USER = ''\n",
    "PASS = ''\n",
    "DATE_END = date.today()\n",
    "\n",
    "# adjustable search parameters\n",
    "COUNTRY = 'US' # abbreviation of country. options here: 'https://developers.google.com/public-data/docs/canonical/countries_csv'\n",
    "YEAR_SEARCH = 1 # how many previous years to query\n",
    "CLOUD_COVER = [0, 10] # acceptable amount of cloud cover [start, end] (percentage)\n",
    "\n",
    "# custom lat/long search\n",
    "LAT, LONG = 47.608013, -122.335167 # custom latitude&longitude (-999 indicates no custom search)\n",
    "CUS_NAME = 'SEA' # custom location name\n",
    "CUSTOM = True # False: no custom search, True: custom search\n"
   ]
  },
  {
   "cell_type": "code",
   "execution_count": 60,
   "id": "488db05d-a46e-437c-a5ad-d9c963945b8e",
   "metadata": {},
   "outputs": [],
   "source": [
    "# requests country data from google, returns dataframe of country data\n",
    "def getCountry(URL):\n",
    "    webpage = request.urlopen(URL)\n",
    "    country_data = pd.read_html(webpage)[0]\n",
    "    return country_data\n"
   ]
  },
  {
   "cell_type": "code",
   "execution_count": 61,
   "id": "a2eeecc5-76bc-48ba-ad38-caaab8aa5a6d",
   "metadata": {},
   "outputs": [],
   "source": [
    "# get desired country from user input, returns lat/long and country name\n",
    "def userInput(URL, countries):\n",
    "    country_ab = COUNTRY\n",
    "    row = countries[countries.country == country_ab]\n",
    "    lat, long, cou_name = row.latitude.values[0], row.longitude.values[0], row.country.values[0]\n",
    "    return(lat, long, cou_name)\n"
   ]
  },
  {
   "cell_type": "code",
   "execution_count": 62,
   "id": "d43c255a-6175-421d-8a5d-359379209efc",
   "metadata": {},
   "outputs": [],
   "source": [
    "# creates geojson from desired lat/long, used for footprint of API query\n",
    "def createGeoJson(URL, countries):\n",
    "    if CUSTOM:\n",
    "        lat, long, cou_name = LAT, LONG, CUS_NAME\n",
    "    else:\n",
    "        # get country information\n",
    "        lat, long, cou_name = userInput(URL, countries)\n",
    "    \n",
    "    # construct geojson with lat/long\n",
    "    data = {\n",
    "        \"type\": \"FeatureCollection\",\n",
    "        \"features\": [\n",
    "            {\n",
    "                \"type\": \"Feature\",\n",
    "                \"geometry\": {\n",
    "                    \"type\": \"Point\", \n",
    "                    \"coordinates\": [long, lat]\n",
    "                }\n",
    "            }\n",
    "        ]\n",
    "    }\n",
    "    \n",
    "    # filepath where .geojson will be saved\n",
    "    filepath = CWD + COU_DIR + cou_name + '.geojson'\n",
    "    \n",
    "    # writes geojson file to directory\n",
    "    with open(filepath, \"w\", encoding = 'utf-8') as f:\n",
    "        json.dump(data, f, ensure_ascii = False, indent = 4) # formatting\n",
    "    f.close()\n",
    "    return filepath\n",
    "    "
   ]
  },
  {
   "cell_type": "code",
   "execution_count": 63,
   "id": "e14ca78a-e6ab-49c0-aa21-15fd9da44498",
   "metadata": {},
   "outputs": [],
   "source": [
    "# determines how many years to query based on YEAR_SEARCH variable, returns date \n",
    "def getStartDate():\n",
    "    DATE_START = DATE_END - pd.DateOffset(years = YEAR_SEARCH)\n",
    "    return DATE_START\n"
   ]
  },
  {
   "cell_type": "code",
   "execution_count": 64,
   "id": "f636a186-403a-4e2f-8f56-e35a6c0ebe04",
   "metadata": {},
   "outputs": [],
   "source": [
    "# connect to API service, requests based on search parameters, returns sorted dataframe of products\n",
    "def sentinel_product(filepath, api):\n",
    "    footprint = geojson_to_wkt(read_geojson(filepath))\n",
    "\n",
    "    products = api.query(footprint,\n",
    "                         date = (getStartDate(), DATE_END),\n",
    "                         platformname = 'Sentinel-2',\n",
    "                         cloudcoverpercentage = CLOUD_COVER)\n",
    "\n",
    "\n",
    "    products_df = api.to_dataframe(products).sort_values(by = ['summary'], ascending = False)\n",
    "\n",
    "    return products_df\n"
   ]
  },
  {
   "cell_type": "code",
   "execution_count": 65,
   "id": "b4bb543b-35cf-420b-872a-7f6c111e8d95",
   "metadata": {},
   "outputs": [],
   "source": [
    "def sentinel_contact():\n",
    "    api = SentinelAPI(USER, PASS, 'https://apihub.copernicus.eu/apihub')\n",
    "    return api"
   ]
  },
  {
   "cell_type": "code",
   "execution_count": 66,
   "id": "3796916a-d26b-4f5b-ab06-576059209ec1",
   "metadata": {},
   "outputs": [],
   "source": [
    "# uses product dataframe parameter to download first satellite imagery, returns file title\n",
    "def sentinel_download(products_df, api):\n",
    "\n",
    "    title = products_df.iloc[0]['title']\n",
    "    prod_id = products_df.iloc[0]['uuid']\n",
    "\n",
    "    api.download(prod_id, CWD + IMG_DIR)\n",
    "    \n",
    "    return title\n"
   ]
  },
  {
   "cell_type": "code",
   "execution_count": 67,
   "id": "dc21e0b7-e36c-4c38-b559-15d25d91e32d",
   "metadata": {},
   "outputs": [],
   "source": [
    "# unpacks downloaded file using title parameter, removes zipped version\n",
    "def unpack(title):\n",
    "    \n",
    "    dl_filepath = CWD + IMG_DIR + title + '.zip'\n",
    "    \n",
    "    # unpacking downloaded zip\n",
    "    with zipfile.ZipFile(dl_filepath, 'r') as zip_ref:\n",
    "        zip_ref.extractall(CWD + IMG_DIR)\n",
    "    os.remove(dl_filepath)\n",
    "    \n",
    "    # renaming file\n",
    "    dl_filepath = CWD + IMG_DIR + title + '.SAFE'\n",
    "    \n",
    "    if CUSTOM:\n",
    "        filename = 'sentinel' + CUS_NAME\n",
    "    else:\n",
    "        filename = 'sentinel' + COUNTRY\n",
    "    dl_rename = CWD + IMG_DIR + filename\n",
    "    os.rename(dl_filepath, dl_rename)\n",
    "    \n",
    "    "
   ]
  },
  {
   "cell_type": "code",
   "execution_count": 73,
   "id": "89ceba32-323a-478a-a123-44a0f1b7934d",
   "metadata": {},
   "outputs": [],
   "source": [
    "def main():\n",
    "    if LAT == -999 and LONG == -999:\n",
    "        countries = getCountry(URL)\n",
    "        filepath = createGeoJson(URL, countries)\n",
    "        api = sentinel_contact()\n",
    "        products_df = sentinel_product(filepath, api)\n",
    "        title = sentinel_download(products_df, api)\n",
    "        unpack(title)\n",
    "        print(\"Complete.\")\n",
    "    else:\n",
    "        filepath = createGeoJson(0, 0)\n",
    "        api = sentinel_contact()\n",
    "        products_df = sentinel_product(filepath, api)\n",
    "        title = sentinel_download(products_df, api)\n",
    "        unpack(title)\n",
    "        print(\"Complete.\")"
   ]
  },
  {
   "cell_type": "code",
   "execution_count": 76,
   "id": "6dfb5951-73df-414d-a89a-2362be0a4c79",
   "metadata": {},
   "outputs": [
    {
     "data": {
      "application/vnd.jupyter.widget-view+json": {
       "model_id": "a6fd8942e44943da80922425f68f28e6",
       "version_major": 2,
       "version_minor": 0
      },
      "text/plain": [
       "Downloading S2A_MSIL1C_20211231T191821_N0301_R056_T10TET_20211231T210256.zip:   0%|          | 0.00/902M [00:0…"
      ]
     },
     "metadata": {},
     "output_type": "display_data"
    },
    {
     "data": {
      "application/vnd.jupyter.widget-view+json": {
       "model_id": "",
       "version_major": 2,
       "version_minor": 0
      },
      "text/plain": [
       "MD5 checksumming:   0%|          | 0.00/902M [00:00<?, ?B/s]"
      ]
     },
     "metadata": {},
     "output_type": "display_data"
    },
    {
     "ename": "FileExistsError",
     "evalue": "[WinError 183] Cannot create a file when that file already exists: 'C:\\\\Users\\\\Connor\\\\Desktop\\\\treeDetection/data/image/S2A_MSIL1C_20211231T191821_N0301_R056_T10TET_20211231T210256.SAFE' -> 'C:\\\\Users\\\\Connor\\\\Desktop\\\\treeDetection/data/image/sentinelUS'",
     "output_type": "error",
     "traceback": [
      "\u001b[1;31m---------------------------------------------------------------------------\u001b[0m",
      "\u001b[1;31mFileExistsError\u001b[0m                           Traceback (most recent call last)",
      "Input \u001b[1;32mIn [76]\u001b[0m, in \u001b[0;36m<cell line: 1>\u001b[1;34m()\u001b[0m\n\u001b[1;32m----> 1\u001b[0m \u001b[43mmain\u001b[49m\u001b[43m(\u001b[49m\u001b[43m)\u001b[49m\n",
      "Input \u001b[1;32mIn [73]\u001b[0m, in \u001b[0;36mmain\u001b[1;34m()\u001b[0m\n\u001b[0;32m     13\u001b[0m products_df \u001b[38;5;241m=\u001b[39m sentinel_product(filepath, api)\n\u001b[0;32m     14\u001b[0m title \u001b[38;5;241m=\u001b[39m sentinel_download(products_df, api)\n\u001b[1;32m---> 15\u001b[0m \u001b[43munpack\u001b[49m\u001b[43m(\u001b[49m\u001b[43mtitle\u001b[49m\u001b[43m)\u001b[49m\n\u001b[0;32m     16\u001b[0m \u001b[38;5;28mprint\u001b[39m(\u001b[38;5;124m\"\u001b[39m\u001b[38;5;124mComplete.\u001b[39m\u001b[38;5;124m\"\u001b[39m)\n",
      "Input \u001b[1;32mIn [67]\u001b[0m, in \u001b[0;36munpack\u001b[1;34m(title)\u001b[0m\n\u001b[0;32m     13\u001b[0m filename \u001b[38;5;241m=\u001b[39m \u001b[38;5;124m'\u001b[39m\u001b[38;5;124msentinel\u001b[39m\u001b[38;5;124m'\u001b[39m \u001b[38;5;241m+\u001b[39m COUNTRY\n\u001b[0;32m     14\u001b[0m dl_rename \u001b[38;5;241m=\u001b[39m CWD \u001b[38;5;241m+\u001b[39m IMG_DIR \u001b[38;5;241m+\u001b[39m filename\n\u001b[1;32m---> 15\u001b[0m \u001b[43mos\u001b[49m\u001b[38;5;241;43m.\u001b[39;49m\u001b[43mrename\u001b[49m\u001b[43m(\u001b[49m\u001b[43mdl_filepath\u001b[49m\u001b[43m,\u001b[49m\u001b[43m \u001b[49m\u001b[43mdl_rename\u001b[49m\u001b[43m)\u001b[49m\n",
      "\u001b[1;31mFileExistsError\u001b[0m: [WinError 183] Cannot create a file when that file already exists: 'C:\\\\Users\\\\Connor\\\\Desktop\\\\treeDetection/data/image/S2A_MSIL1C_20211231T191821_N0301_R056_T10TET_20211231T210256.SAFE' -> 'C:\\\\Users\\\\Connor\\\\Desktop\\\\treeDetection/data/image/sentinelUS'"
     ]
    }
   ],
   "source": [
    "main()\n"
   ]
  },
  {
   "cell_type": "code",
   "execution_count": null,
   "id": "4e8ce0e0",
   "metadata": {},
   "outputs": [],
   "source": []
  }
 ],
 "metadata": {
  "kernelspec": {
   "display_name": "testing",
   "language": "python",
   "name": "testing"
  },
  "language_info": {
   "codemirror_mode": {
    "name": "ipython",
    "version": 3
   },
   "file_extension": ".py",
   "mimetype": "text/x-python",
   "name": "python",
   "nbconvert_exporter": "python",
   "pygments_lexer": "ipython3",
   "version": "3.9.7"
  },
  "toc-autonumbering": true,
  "toc-showcode": false,
  "toc-showtags": false
 },
 "nbformat": 4,
 "nbformat_minor": 5
}
