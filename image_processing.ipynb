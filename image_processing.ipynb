{
 "cells": [
  {
   "cell_type": "code",
   "execution_count": null,
   "id": "272e0850",
   "metadata": {},
   "outputs": [],
   "source": [
    "#imports\n",
    "import os\n",
    "import rasterio\n",
    "import glob\n",
    "from rasterio import plot\n"
   ]
  },
  {
   "cell_type": "code",
   "execution_count": null,
   "id": "a56b345f",
   "metadata": {},
   "outputs": [],
   "source": [
    "# constants\n",
    "CWD = os.getcwd()\n",
    "#IMG_DIR = ''\n",
    "OUTPUT_DIR = '/data/processed/'\n",
    "J_DRIVER = 'JP2OpenJPEG' # driver to process jp2 files\n",
    "G_DRIVER = 'Gtiff' # driver to process geotiff files\n",
    "\n",
    "# parameters to be adjusted\n",
    "BAND_COUNT = 3 # used to control the number of bands being written. (rgb default = 3)\n",
    "FOLDER = 'sentinelLV' # satellite folder, change to desired satellite data within the image folder\n"
   ]
  },
  {
   "cell_type": "code",
   "execution_count": null,
   "id": "b1ce9925",
   "metadata": {},
   "outputs": [],
   "source": [
    "# creates array of band names, returns band names and path to bands\n",
    "def get_file_names():\n",
    "    img_folder = CWD + '/data/image/' + FOLDER + '/GRANULE/'\n",
    "    IMG_DIR = img_folder + os.listdir(img_folder)[0] + '/IMG_DATA/'\n",
    "    band_names = glob.glob(IMG_DIR + '*.jp2') # all files with .jp2 file extension\n",
    "    \n",
    "    return band_names, IMG_DIR\n"
   ]
  },
  {
   "cell_type": "code",
   "execution_count": null,
   "id": "9ca2f92b",
   "metadata": {},
   "outputs": [],
   "source": [
    "# reads downloaded satellite bands, returns array of rgb bands\n",
    "# band_names: array of satellite bands, IMG_DIR: path to satellite bands\n",
    "def band_process(band_names, IMG_DIR):\n",
    "    repeat = list(range(1, 4)) # range can be adjusted to select different bands. Default: (2, 3, 4):(blue, green, red)\n",
    "    bands = []\n",
    "    for x in repeat:\n",
    "        bands.append(rasterio.open(band_names[x], driver = J_DRIVER)) # + IMG_DIR\n",
    "\n",
    "    return bands\n"
   ]
  },
  {
   "cell_type": "code",
   "execution_count": null,
   "id": "84788a96",
   "metadata": {},
   "outputs": [],
   "source": [
    "# image processing, writes RGB bands to a singular TIFF file that can be imported to ArcGIS\n",
    "# bands: array of opened satellite bands\n",
    "def band_write(bands):\n",
    "    trueColor = rasterio.open(CWD + OUTPUT_DIR + 'rgb/' + FOLDER + '_rgb.tif',\n",
    "                             'w',\n",
    "                             driver = G_DRIVER,\n",
    "                             height = bands[0].height,\n",
    "                             width = bands[0].width,\n",
    "                             count = BAND_COUNT, # 12\n",
    "                             crs = bands[0].crs,\n",
    "                             dtype = bands[0].dtypes[0],\n",
    "                             transform = bands[0].transform)\n",
    "    \n",
    "    desc = BAND_COUNT # int controlling iteration\n",
    "    \n",
    "    # for each band, write band to .tif file\n",
    "    for i in bands:\n",
    "        trueColor.write(i.read(1), desc)\n",
    "        desc = desc - 1\n",
    "        \n",
    "    trueColor.close()\n",
    "    "
   ]
  },
  {
   "cell_type": "code",
   "execution_count": null,
   "id": "2c48e2f4",
   "metadata": {},
   "outputs": [],
   "source": [
    "def main():\n",
    "    band_names, IMG_DIR = get_file_names()\n",
    "    bands = band_process(band_names, IMG_DIR)\n",
    "    band_write(bands)\n",
    "    print(\"Completed.\")\n",
    "    "
   ]
  },
  {
   "cell_type": "code",
   "execution_count": null,
   "id": "f8a675a2",
   "metadata": {},
   "outputs": [],
   "source": [
    "main()"
   ]
  },
  {
   "cell_type": "markdown",
   "id": "1a812dcf",
   "metadata": {},
   "source": [
    "This section processes the satellite bands using zonal analysis to detect greenspace."
   ]
  },
  {
   "cell_type": "code",
   "execution_count": null,
   "id": "10d60f09",
   "metadata": {},
   "outputs": [],
   "source": [
    "# imports\n",
    "import pandas as pd\n",
    "import fiona\n",
    "import numpy as np\n",
    "import geopandas as gpd\n",
    "from rasterio.plot import show\n",
    "from rasterio.mask import mask\n",
    "import matplotlib.pyplot as plt\n",
    "np.seterr(invalid='ignore') # ignores nan values in satellite bands\n"
   ]
  },
  {
   "cell_type": "code",
   "execution_count": null,
   "id": "d4103bff",
   "metadata": {},
   "outputs": [],
   "source": [
    "# opens bands used to zonal analysis\n",
    "band_names, IMG_DIR = get_file_names() \n",
    "b2 = rasterio.open(band_names[1]) # BLUE\n",
    "b3 = rasterio.open(band_names[2]) # GREEN\n",
    "b4 = rasterio.open(band_names[3]) # RED\n",
    "b8 = rasterio.open(band_names[7]) # NIR\n",
    "    "
   ]
  },
  {
   "cell_type": "code",
   "execution_count": null,
   "id": "79c4ace9",
   "metadata": {},
   "outputs": [],
   "source": [
    "# calculates NDVI (Normalized Difference Vegetation Index), returns ndvi as numpy dataframe\n",
    "def ndvi_calc():\n",
    "    red = b4.read()\n",
    "    nir = b8.read()\n",
    "\n",
    "    ndvi = np.zeros(red.shape, dtype = rasterio.float64)\n",
    "    ndvi = (nir.astype(float) - red.astype(float)) / (nir + red) # (b8 - b4) / (b8 + b4)\n",
    "    \n",
    "    return ndvi\n"
   ]
  },
  {
   "cell_type": "code",
   "execution_count": null,
   "id": "fe50c444",
   "metadata": {},
   "outputs": [],
   "source": [
    "# calculates NDWI (Normalized Difference Water Index), returns ndwi as numpy dataframe\n",
    "def ndwi_calc():\n",
    "    green = b3.read()\n",
    "    nir = b8.read()\n",
    "\n",
    "    ndwi = np.zeros(green.shape, dtype = rasterio.float64)\n",
    "    ndwi = (nir.astype(float) - green.astype(float)) / (nir + green) # (b8 - b4) / (b8 + b4\n",
    "    \n",
    "    return ndwi\n"
   ]
  },
  {
   "cell_type": "code",
   "execution_count": null,
   "id": "4a3f01cd",
   "metadata": {},
   "outputs": [],
   "source": [
    "# exports normalized difference index to .tif\n",
    "# data: ndvi or ndwi data, folder: location to write .tif, name: name of .tif file\n",
    "def export_normalized_diff(data, folder, name):    \n",
    "    export_loc = CWD + '/data/processed/' + folder + name\n",
    "    with rasterio.open(export_loc, 'w',\n",
    "                        driver = G_DRIVER,\n",
    "                        height = b4.height,\n",
    "                        width = b4.width,\n",
    "                        count = 1,  \n",
    "                        crs = b4.crs,\n",
    "                        dtype = rasterio.float64,\n",
    "                        transform = b4.transform) as table:\n",
    "        table.write(data)\n",
    "        "
   ]
  },
  {
   "cell_type": "code",
   "execution_count": null,
   "id": "cd43b305",
   "metadata": {},
   "outputs": [],
   "source": [
    "# reports and writes ndvi statistics\n",
    "def ndvi():\n",
    "    ndvi = ndvi_calc()\n",
    "    export_normalized_diff(ndvi, 'ndvi/', FOLDER + '_ndvi.tif')\n",
    "    print('Mean vegitation density of raster: ' + np.nanmean(ndvi[0]).astype(str))\n",
    "    print('Completed.')\n",
    "\n",
    "# reports and writes ndwi statistics \n",
    "def ndwi():\n",
    "    ndwi = ndwi_calc()\n",
    "    export_normalized_diff(ndwi, 'ndwi/', FOLDER + '_ndwi.tif')\n",
    "    #print('Mean water density of raster: ' + np.nanmean(ndwi[0]).astype(str))\n",
    "    print('Completed.')\n",
    "    "
   ]
  },
  {
   "cell_type": "code",
   "execution_count": null,
   "id": "75640bef",
   "metadata": {},
   "outputs": [],
   "source": [
    "ndvi()\n",
    "ndwi()"
   ]
  },
  {
   "cell_type": "code",
   "execution_count": null,
   "id": "db4ce46e",
   "metadata": {},
   "outputs": [],
   "source": [
    "# histogram of values, useful for visualizing the range of values\n",
    "'''\n",
    "flat_raster = np.ma.compressed(tif)\n",
    "\n",
    "fig = plt.figure(figsize=(8,11))\n",
    "ax = fig.add_subplot(1,1,1)\n",
    "\n",
    "ax.hist(flat_raster, 10, normed=0, histtype='bar',\n",
    "    align='mid')\n",
    "'''\n"
   ]
  },
  {
   "cell_type": "code",
   "execution_count": null,
   "id": "606ca59b",
   "metadata": {},
   "outputs": [],
   "source": [
    "# generates preview of .tif\n",
    "'''\n",
    "#fig, ax = plt.subplots(1, figsize = (12, 10))\n",
    "#show(ndvi, ax = ax, cmap = 'gist_earth')\n",
    "#plt.show()\n",
    "'''"
   ]
  },
  {
   "cell_type": "code",
   "execution_count": null,
   "id": "67fb30bb",
   "metadata": {},
   "outputs": [],
   "source": []
  }
 ],
 "metadata": {
  "kernelspec": {
   "display_name": "satelliteprocessing",
   "language": "python",
   "name": "satelliteprocessing"
  },
  "language_info": {
   "codemirror_mode": {
    "name": "ipython",
    "version": 3
   },
   "file_extension": ".py",
   "mimetype": "text/x-python",
   "name": "python",
   "nbconvert_exporter": "python",
   "pygments_lexer": "ipython3",
   "version": "3.6.13"
  }
 },
 "nbformat": 4,
 "nbformat_minor": 5
}
