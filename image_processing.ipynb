{
 "cells": [
  {
   "cell_type": "code",
   "execution_count": null,
   "id": "d6d27386",
   "metadata": {},
   "outputs": [],
   "source": [
    "#!pip install rasterio"
   ]
  },
  {
   "cell_type": "code",
   "execution_count": 1,
   "id": "b95fd10b",
   "metadata": {},
   "outputs": [],
   "source": [
    "#imports\n",
    "import os\n",
    "import rasterio\n",
    "from rasterio import plot\n",
    "#import matplotlib.pyplot as plt\n",
    "#%matplotlib inline\n"
   ]
  },
  {
   "cell_type": "code",
   "execution_count": 2,
   "id": "24edf8a5",
   "metadata": {},
   "outputs": [],
   "source": [
    "# constants\n",
    "CWD = os.getcwd()\n",
    "IMG_DIR = '' #'/data/image/sentinelFR/GRANULE/L1C_T31TDM_A026103_20220306T105455/IMG_DATA/'\n",
    "OUTPUT_DIR = '/data/processed/'\n",
    "J_DRIVER = 'JP2OpenJPEG' # driver to process jp2 files\n",
    "G_DRIVER = 'Gtiff' # driver to process geotiff files\n",
    "OUTPUT_NAME = 'test.tif'\n"
   ]
  },
  {
   "cell_type": "code",
   "execution_count": 45,
   "id": "ae0974df",
   "metadata": {},
   "outputs": [
    {
     "data": {
      "text/plain": [
       "'T31TDM_20220306T104819_B03.jp2'"
      ]
     },
     "execution_count": 45,
     "metadata": {},
     "output_type": "execute_result"
    }
   ],
   "source": [
    "# returns the names of necessary files\n",
    "def get_file_names():\n",
    "    img_folder = CWD + '/data/image/sentinelFR/GRANULE/'\n",
    "    IMG_DIR = img_folder + os.listdir(img_folder)[0] + '/IMG_DATA/'\n",
    "    # need a way to walk through folder and get these manually, will always be in the same place\n",
    "    jp2List = os.listdir(IMG_DIR)\n",
    "    band_names = [jp2List[1], jp2List[2], jp2List[3]]\n",
    "    \n",
    "    return band_names, IMG_DIR\n"
   ]
  },
  {
   "cell_type": "code",
   "execution_count": 5,
   "id": "ae923de1",
   "metadata": {},
   "outputs": [],
   "source": [
    "# reads downloaded satellite bands (2, 3, 4, 8):(blue, green, red, vnir)\n",
    "def band_process(band_names):\n",
    "    repeat = [0, 1, 2] # disgusting, this is simple in java, whats up # EDIT FOR NEW FILENAMES\n",
    "    bands = [0] * 3 # gross\n",
    "    for x in repeat:\n",
    "        bands[x] = rasterio.open(CWD + IMG_DIR + band_names[x], driver = J_DRIVER) # blue\n",
    "        \n",
    "    return bands\n",
    "\n",
    "\n",
    "#band3 = rasterio.open(CWD + IMG_DIR + 'T15STB_20220315T171051_B03.jp2', driver = 'JP2OpenJPEG') # green\n",
    "#band4 = rasterio.open(CWD + IMG_DIR + 'T15STB_20220315T171051_B04.jp2', driver = 'JP2OpenJPEG') # red\n",
    "#band8 = rasterio.open(CWD + IMG_DIR + 'T15STB_20220315T171051_B08.jp2', driver = 'JP2OpenJPEG') # vnir (visibile&near infrared)"
   ]
  },
  {
   "cell_type": "code",
   "execution_count": 11,
   "id": "fdf02840",
   "metadata": {},
   "outputs": [],
   "source": [
    "# image processing, writes RGB bands to a singular TIFF file that can be imported to ArcGIS\n",
    "def band_write(bands):\n",
    "    trueColor = rasterio.open(CWD + OUTPUT_DIR + OUTPUT_NAME, \n",
    "                             'w',\n",
    "                             driver = G_DRIVER,\n",
    "                             height = bands[0].height,\n",
    "                             width = bands[0].width,\n",
    "                             count = 3,\n",
    "                             crs = bands[0].crs,\n",
    "                             dtype = bands[0].dtypes[0], \n",
    "                             transform = bands[0].transform)\n",
    "    \n",
    "    trueColor.write(bands[0].read(1), 3)\n",
    "    trueColor.write(bands[1].read(1), 2)\n",
    "    trueColor.write(bands[2].read(1), 1)\n",
    "    trueColor.close()\n",
    "    "
   ]
  },
  {
   "cell_type": "code",
   "execution_count": 7,
   "id": "579069c5",
   "metadata": {},
   "outputs": [],
   "source": [
    "def main():\n",
    "    band_names = get_file_names()\n",
    "    bands = band_process(band_names)\n",
    "    band_write(bands)\n",
    "    print(\"Completed.\")\n",
    "    "
   ]
  },
  {
   "cell_type": "code",
   "execution_count": 12,
   "id": "01844d7c",
   "metadata": {},
   "outputs": [],
   "source": [
    "main()"
   ]
  },
  {
   "cell_type": "code",
   "execution_count": null,
   "id": "a56e1d72",
   "metadata": {},
   "outputs": [],
   "source": []
  }
 ],
 "metadata": {
  "kernelspec": {
   "display_name": "satelliteprocessing",
   "language": "python",
   "name": "satelliteprocessing"
  },
  "language_info": {
   "codemirror_mode": {
    "name": "ipython",
    "version": 3
   },
   "file_extension": ".py",
   "mimetype": "text/x-python",
   "name": "python",
   "nbconvert_exporter": "python",
   "pygments_lexer": "ipython3",
   "version": "3.6.13"
  }
 },
 "nbformat": 4,
 "nbformat_minor": 5
}
